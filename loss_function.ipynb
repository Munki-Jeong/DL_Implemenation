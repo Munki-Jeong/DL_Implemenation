{
 "cells": [
  {
   "cell_type": "code",
   "execution_count": 2,
   "metadata": {},
   "outputs": [],
   "source": [
    "import numpy as np"
   ]
  },
  {
   "cell_type": "code",
   "execution_count": 21,
   "metadata": {},
   "outputs": [
    {
     "name": "stdout",
     "output_type": "stream",
     "text": [
      "[[ 4  5]\n",
      " [ 8 10]]\n"
     ]
    }
   ],
   "source": [
    "# X= np.array([[1, 2], [4, 5], [6, 2]])\n",
    "X= np.array([[4, 5]])\n",
    "W = np.array([[1], [2]])\n",
    "\n",
    "print(W.dot(X))"
   ]
  },
  {
   "cell_type": "code",
   "execution_count": null,
   "metadata": {},
   "outputs": [],
   "source": [
    "#SVM loss\n",
    "# x = [1,]\n",
    "def svm(x, y, W):\n",
    "    scores = W.dot(x)\n",
    "    scores = np.max(0, scores - scores[y] +1)\n",
    "    scores[y] = 0\n",
    "\n",
    "    return np.sum(scores)"
   ]
  },
  {
   "cell_type": "code",
   "execution_count": null,
   "metadata": {},
   "outputs": [],
   "source": [
    "sum_col = np.sum(exp_x, axis=1).reshape(x.shape[0], 1)"
   ]
  },
  {
   "cell_type": "code",
   "execution_count": 31,
   "metadata": {},
   "outputs": [
    {
     "name": "stdout",
     "output_type": "stream",
     "text": [
      "[[0.70538451 0.25949646 0.03511903]\n",
      " [0.01794253 0.00242826 0.97962921]\n",
      " [0.48785555 0.48785555 0.0242889 ]]\n",
      "[0.70538451 0.25949646 0.03511903]\n",
      "[[5]\n",
      " [8]\n",
      " [4]]\n",
      "[5 8 4]\n"
     ]
    }
   ],
   "source": [
    "#softmax stable for multidiim\n",
    "def softmax_stable(x):\n",
    "    if x.ndim >= 2:\n",
    "        max_col = np.max(x, axis=1).reshape(x.shape[0], 1)\n",
    "        sub_x = x - max_col\n",
    "\n",
    "        exp_x = np.exp(sub_x)\n",
    "        sum_col = np.sum(exp_x, axis=1).reshape(x.shape[0], 1)\n",
    "\n",
    "        return exp_x / sum_col\n",
    "    x = x - max(x)\n",
    "    exp_x = np.exp(x)\n",
    "    return exp_x / np.sum(exp_x)\n",
    "\n",
    "x1 = np.array([[5, 4, 2], [4, 2, 8], [4, 4, 1]])\n",
    "x2 = np.array([5, 4, 2])\n",
    "print(softmax_stable(x1))\n",
    "print(softmax_stable(x2))\n",
    "\n",
    "print(np.max(x1, axis=1).reshape(x1.shape[0], 1))\n",
    "print(np.max(x1, axis=1))\n",
    "\n"
   ]
  },
  {
   "cell_type": "code",
   "execution_count": 33,
   "metadata": {},
   "outputs": [
    {
     "ename": "TypeError",
     "evalue": "array() takes from 1 to 2 positional arguments but 3 were given",
     "output_type": "error",
     "traceback": [
      "\u001b[0;31m---------------------------------------------------------------------------\u001b[0m",
      "\u001b[0;31mTypeError\u001b[0m                                 Traceback (most recent call last)",
      "\u001b[1;32m/Users/munkijeong/Desktop/지스트 2023-2학기/3. 인공지능 경험랩/loss_function.ipynb Cell 5\u001b[0m line \u001b[0;36m3\n\u001b[1;32m      <a href='vscode-notebook-cell:/Users/munkijeong/Desktop/%EC%A7%80%EC%8A%A4%ED%8A%B8%202023-2%ED%95%99%EA%B8%B0/3.%20%EC%9D%B8%EA%B3%B5%EC%A7%80%EB%8A%A5%20%EA%B2%BD%ED%97%98%EB%9E%A9/loss_function.ipynb#X22sZmlsZQ%3D%3D?line=0'>1</a>\u001b[0m a \u001b[39m=\u001b[39m np\u001b[39m.\u001b[39marray([[\u001b[39m1\u001b[39m, \u001b[39m2\u001b[39m, \u001b[39m3\u001b[39m]])\n\u001b[0;32m----> <a href='vscode-notebook-cell:/Users/munkijeong/Desktop/%EC%A7%80%EC%8A%A4%ED%8A%B8%202023-2%ED%95%99%EA%B8%B0/3.%20%EC%9D%B8%EA%B3%B5%EC%A7%80%EB%8A%A5%20%EA%B2%BD%ED%97%98%EB%9E%A9/loss_function.ipynb#X22sZmlsZQ%3D%3D?line=2'>3</a>\u001b[0m prob_dist \u001b[39m=\u001b[39m np\u001b[39m.\u001b[39;49marray([\u001b[39m1\u001b[39;49m, \u001b[39m2\u001b[39;49m, \u001b[39m3\u001b[39;49m], [\u001b[39m4\u001b[39;49m, \u001b[39m5\u001b[39;49m, \u001b[39m6\u001b[39;49m], [\u001b[39m7\u001b[39;49m, \u001b[39m8\u001b[39;49m, \u001b[39m9\u001b[39;49m])\n\u001b[1;32m      <a href='vscode-notebook-cell:/Users/munkijeong/Desktop/%EC%A7%80%EC%8A%A4%ED%8A%B8%202023-2%ED%95%99%EA%B8%B0/3.%20%EC%9D%B8%EA%B3%B5%EC%A7%80%EB%8A%A5%20%EA%B2%BD%ED%97%98%EB%9E%A9/loss_function.ipynb#X22sZmlsZQ%3D%3D?line=3'>4</a>\u001b[0m \u001b[39mprint\u001b[39m(prob_dist[a])\n",
      "\u001b[0;31mTypeError\u001b[0m: array() takes from 1 to 2 positional arguments but 3 were given"
     ]
    }
   ],
   "source": [
    "a = np.array([[1, 2, 3]])\n",
    "\n",
    "prob_dist = np.array([1, 2, 3], [4, 5, 6], [7, 8, 9])\n",
    "print(prob_dist[a])"
   ]
  },
  {
   "cell_type": "code",
   "execution_count": 32,
   "metadata": {},
   "outputs": [],
   "source": [
    "#cross entrophy of X\n",
    "def cross_entrophy(x, y, w):\n",
    "    score = np.dot(w, x)\n",
    "    prob_dist = softmax_stable(score)\n",
    "\n",
    "    y.reshape(1, w.shape[0])\n",
    "\n",
    "    loss_col = prob_dist[y]\n",
    "\n",
    "    print(loss_col)\n"
   ]
  },
  {
   "cell_type": "code",
   "execution_count": 28,
   "metadata": {},
   "outputs": [
    {
     "name": "stdout",
     "output_type": "stream",
     "text": [
      "[ 210.40036523 3042.94519317  111.91458189]\n",
      "[[7.05384513e-01 1.79425348e-02 6.60240692e-02]\n",
      " [2.59496460e-01 2.42825803e-03 2.66360106e+01]\n",
      " [2.59496460e-01 1.79425348e-02 2.42888977e-02]]\n",
      "[[ 210.40036523]\n",
      " [3042.94519317]\n",
      " [ 111.91458189]]\n",
      "[[0.70538451 0.25949646 0.03511903]\n",
      " [0.01794253 0.00242826 0.97962921]\n",
      " [0.48785555 0.48785555 0.0242889 ]]\n",
      "[0.70538451 0.25949646 0.03511903]\n"
     ]
    }
   ],
   "source": [
    "def softmax2(x):\n",
    "    if x.ndim >= 2:\n",
    "        exp_x = np.exp(x)\n",
    "        sum_col = np.sum(exp_x, axis=1).reshape(x.shape[0], 1)\n",
    "        print(sum_col)\n",
    "        return exp_x / sum_col\n",
    "    exp_x = np.exp(x)\n",
    "    return exp_x / np.sum(exp_x)\n",
    "\n",
    "x1 = np.array([[5, 4, 2], [4, 2, 8], [4, 4, 1]])\n",
    "x2 = np.array([5, 4, 2])\n",
    "print(softmax1(x1))\n",
    "print(softmax2(x1))\n",
    "print(softmax(x2))"
   ]
  },
  {
   "cell_type": "markdown",
   "metadata": {},
   "source": [
    "------------------------------------------------------------------------------------------------------------------------------------------------\n",
    "former"
   ]
  },
  {
   "cell_type": "code",
   "execution_count": 20,
   "metadata": {},
   "outputs": [],
   "source": [
    "def softmax(x):  #it should work for single array and multiple arrays # mini batch version\n",
    "  exp_x = np.exp(x)\n",
    "  col_sum = np.sum(exp_x, axis=1).reshape(len(x), 1)\n",
    "  output = exp_x/col_sum\n",
    "\n",
    "  return output\n"
   ]
  },
  {
   "cell_type": "code",
   "execution_count": 21,
   "metadata": {},
   "outputs": [
    {
     "name": "stdout",
     "output_type": "stream",
     "text": [
      "[[0.09003057 0.24472847 0.66524096]]\n"
     ]
    }
   ],
   "source": [
    "x = np.array([[2, 3, 4]])\n",
    "\n",
    "print(softmax(x))"
   ]
  },
  {
   "cell_type": "code",
   "execution_count": 3,
   "metadata": {},
   "outputs": [
    {
     "name": "stdout",
     "output_type": "stream",
     "text": [
      "[0.01821127 0.24519181 0.73659691] [9.99954600e-01 4.53978686e-05 2.06106005e-09]\n"
     ]
    }
   ],
   "source": [
    "#나의 방법\n",
    "def softmax_1(x):  #it should work for single array and multiple arrays # mini batch version\n",
    "  if x.ndim == 2:\n",
    "    exp_x = np.exp(x)\n",
    "    col_sum = np.sum(exp_x, axis=1).reshape(len(x), 1)\n",
    "    output = exp_x/col_sum\n",
    "\n",
    "    return output\n",
    "\n",
    "  else:\n",
    "    x = x - np.max(x)\n",
    "    return np.exp(x)/np.sum(np.exp(x))\n",
    "\n",
    "\n",
    "x1 = np.array([0.3, 2.9, 4.0])\n",
    "x2 = np.array([1010, 1000, 990])\n",
    "print(softmax_1(x1), softmax_1(x2))\n"
   ]
  }
 ],
 "metadata": {
  "kernelspec": {
   "display_name": "Python 3",
   "language": "python",
   "name": "python3"
  },
  "language_info": {
   "codemirror_mode": {
    "name": "ipython",
    "version": 3
   },
   "file_extension": ".py",
   "mimetype": "text/x-python",
   "name": "python",
   "nbconvert_exporter": "python",
   "pygments_lexer": "ipython3",
   "version": "3.10.11"
  }
 },
 "nbformat": 4,
 "nbformat_minor": 2
}
