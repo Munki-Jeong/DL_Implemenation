{
 "cells": [
  {
   "cell_type": "code",
   "execution_count": 1,
   "metadata": {},
   "outputs": [],
   "source": [
    "import numpy as np"
   ]
  },
  {
   "cell_type": "markdown",
   "metadata": {},
   "source": [
    "### Logical Gate"
   ]
  },
  {
   "cell_type": "code",
   "execution_count": null,
   "metadata": {},
   "outputs": [],
   "source": [
    "#or\n",
    "def Not(x1):\n",
    "    if x1 <= 0.5:\n",
    "        return 1\n",
    "    return 0"
   ]
  },
  {
   "cell_type": "code",
   "execution_count": 37,
   "metadata": {},
   "outputs": [
    {
     "name": "stdout",
     "output_type": "stream",
     "text": [
      "0 0 0 1\n"
     ]
    }
   ],
   "source": [
    "def And(x1, x2):\n",
    "    w = np.array([0.5, 0.5])\n",
    "    x = np.array([x1, x2])\n",
    "    b = -0.7\n",
    "\n",
    "    temp = np.dot(w, x) + b\n",
    "\n",
    "    if temp > 0:\n",
    "        return 1\n",
    "    return 0\n",
    "\n",
    "print(And(0, 0), And(0, 1), And(1, 0), And(1, 1))"
   ]
  },
  {
   "cell_type": "code",
   "execution_count": 36,
   "metadata": {},
   "outputs": [
    {
     "name": "stdout",
     "output_type": "stream",
     "text": [
      "1 1 1 0\n"
     ]
    }
   ],
   "source": [
    "def OR(x1, x2):\n",
    "    w = np.array([0.5, 0.5])\n",
    "    x = np.array([x1, x2])\n",
    "    b = -0.2\n",
    "\n",
    "    temp = np.dot(w, x) + b\n",
    "    if temp > 0:\n",
    "        return 1\n",
    "    return 0\n",
    "\n",
    "print(OR(1, 1), OR(1, 0), OR(0, 1), OR(0, 0))"
   ]
  },
  {
   "cell_type": "code",
   "execution_count": 41,
   "metadata": {},
   "outputs": [
    {
     "name": "stdout",
     "output_type": "stream",
     "text": [
      "0 1 1 1\n"
     ]
    }
   ],
   "source": [
    "def Nand(x1, x2):\n",
    "    w = np.array([-0.5, -0.5])\n",
    "    x = np.array([x1, x2])\n",
    "    b = 0.7\n",
    "\n",
    "    temp = np.dot(w, x) + b\n",
    "\n",
    "    if temp > 0:\n",
    "        return 1\n",
    "    return 0\n",
    "\n",
    "print(Nand(1, 1), Nand(1, 0), Nand(0, 1), Nand(0, 0))"
   ]
  },
  {
   "cell_type": "code",
   "execution_count": 45,
   "metadata": {},
   "outputs": [
    {
     "name": "stdout",
     "output_type": "stream",
     "text": [
      "0 1 1 0\n"
     ]
    }
   ],
   "source": [
    "def XOR(x1, x2):\n",
    "    \n",
    "    return Nand(x1, x2) and OR(x1, x2)\n",
    "\n",
    "print(XOR(0, 0), XOR(0, 1), XOR(1, 0), XOR(1, 1))"
   ]
  },
  {
   "cell_type": "markdown",
   "metadata": {},
   "source": [
    "### Perceptron implementation"
   ]
  },
  {
   "cell_type": "code",
   "execution_count": 51,
   "metadata": {},
   "outputs": [],
   "source": [
    "import sklearn.datasets as dt\n",
    "\n",
    "data = dt.make_classification(\n",
    "  n_samples=100,\n",
    "  n_features=2,\n",
    "  n_repeated=0, #no repeated data class\n",
    "  n_classes=2,\n",
    "  n_redundant=0)\n",
    "\n",
    "X, y = data[0], data[1]\n",
    "\n",
    "shuffle_idx  = np.arange(y.shape[0])\n",
    "random_state = np.random.RandomState(123)\n",
    "random_state.shuffle(shuffle_idx)\n",
    "\n",
    "X, y = X[shuffle_idx], y[shuffle_idx]\n",
    "X_train, y_train = X[:70], y[:70]\n",
    "X_test, y_test = X[70:], y[70:]\n",
    "\n",
    "mu, sigma = np.mean(X_train, axis=0), np.std(X_train, axis=0)\n",
    "X_train = (X_train - mu) / sigma\n",
    "X_test = (X_test - mu) / sigma\n"
   ]
  },
  {
   "cell_type": "code",
   "execution_count": 54,
   "metadata": {},
   "outputs": [],
   "source": [
    "#def train에서 고생하고 나머지는 편하게\n",
    "#기본적으로 각 instance x[i]는 row 취급해서 shape (1, self.feature_num), w는 column취급해서 (self.feature_num, 1)\n",
    "class Perceptron:\n",
    "    def __init__(self, feature_num):\n",
    "        self.feature_num = feature_num\n",
    "        self.w = np.zeros((self.feature_num, 1), dtype=float) #w는 column vector\n",
    "        self.b = np.zeros(1, dtype=float) #bias는 scalar\n",
    "    \n",
    "    def forward(self, x):\n",
    "        linear = np.dot(x, self.w) + self.b\n",
    "        predict_y = np.where(linear > 0, 1, 0) #0은 포함되지 않음\n",
    "        return predict_y\n",
    "\n",
    "    def backward(self, x, y):\n",
    "        y_predict = self.forward(x)\n",
    "        return y - y_predict #이 값은 scalar\n",
    "\n",
    "    def train(self, x, y, epoch):\n",
    "        for _ in range(epoch):\n",
    "            for i in range(y.shape[0]):\n",
    "                error = self.backward(x[i].reshape(1, self.feature_num), y[i]).reshape(-1) \n",
    "                self.w = self.w + (error * x[i]).reshape(self.feature_num, 1)\n",
    "                self.b = error #빠뜨리지 말기!\n",
    "    \n",
    "    def accuracy(self, x, y):\n",
    "        predict = self.forward(x)\n",
    "        accuracy = np.sum(predict == y) / y.shape[0] #이 문법 기억!\n",
    "\n",
    "        return accuracy"
   ]
  },
  {
   "cell_type": "code",
   "execution_count": 55,
   "metadata": {},
   "outputs": [],
   "source": [
    "perceptron1 = Perceptron(2)\n",
    "\n",
    "perceptron1.train(X_train, y_train, epoch = 100)"
   ]
  },
  {
   "cell_type": "markdown",
   "metadata": {},
   "source": [
    "### activation function"
   ]
  },
  {
   "cell_type": "code",
   "execution_count": null,
   "metadata": {},
   "outputs": [],
   "source": [
    "def sigmoid(x):\n",
    "    1 / 1+ exp(-x)"
   ]
  },
  {
   "cell_type": "code",
   "execution_count": 59,
   "metadata": {},
   "outputs": [
    {
     "name": "stdout",
     "output_type": "stream",
     "text": [
      "[0 0 0 0 0 0 1 2 3 4 5]\n"
     ]
    }
   ],
   "source": [
    "def relu(x):\n",
    "    return np.maximum(0, x)\n",
    "\n",
    "x = np.arange(-5, 6, 1)\n",
    "print(relu(x))\n"
   ]
  },
  {
   "cell_type": "code",
   "execution_count": null,
   "metadata": {},
   "outputs": [],
   "source": [
    "def tanh(x):\n",
    "    return np.exp(x) - np.exp(-x) / np.exp(x) + np.exp(-x)"
   ]
  }
 ],
 "metadata": {
  "kernelspec": {
   "display_name": "Python 3",
   "language": "python",
   "name": "python3"
  },
  "language_info": {
   "codemirror_mode": {
    "name": "ipython",
    "version": 3
   },
   "file_extension": ".py",
   "mimetype": "text/x-python",
   "name": "python",
   "nbconvert_exporter": "python",
   "pygments_lexer": "ipython3",
   "version": "3.10.11"
  }
 },
 "nbformat": 4,
 "nbformat_minor": 2
}
